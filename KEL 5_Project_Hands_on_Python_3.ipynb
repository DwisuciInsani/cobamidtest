{
  "cells": [
    {
      "cell_type": "markdown",
      "metadata": {
        "id": "qxB_hdMlbXyH"
      },
      "source": [
        "**Case study OOP with Python**\n",
        "____________\n",
        "\n",
        "\n",
        "Buatlah sebuah program untuk menghitung luas n bangun datar yang terdiri dari (Untuk nilai angka bebas):\n",
        "\n",
        "**Persegi, Persegi panjang, Segitiga, Lingkaran (gunakan 3.14 untuk nilai pi), Trapesium*\n",
        "\n",
        "Permintaan masukan harus disesuaikan dengan bangun datar yang akan dihitung luasnya, e.g. jika persegi, maka program hanya akan meminta satu masukan, i.e. sisi. Setelah didapatkan n luas bangun datar, urutkan luas bangun datar dari terkecil hingga terbesar dan hitung total luas bangun datar tersebut!\n",
        "\n",
        "\n",
        "\n",
        "\n",
        "Buatlah penyelesaian kasus tersebut dalam paradigma pemrograman berorientasi objek!"
      ]
    },
    {
      "cell_type": "code",
      "execution_count": 37,
      "metadata": {
        "id": "Sz57nwcyw4Dr"
      },
      "outputs": [],
      "source": [
        "class BangunDatar:\n",
        "    def __init__(self, jenis):\n",
        "        self.jenis = jenis\n",
        "\n",
        "    def hitung_luas(self):\n",
        "        pass"
      ]
    },
    {
      "cell_type": "markdown",
      "metadata": {
        "id": "wFy9L1RfxIno"
      },
      "source": [
        "Persegi"
      ]
    },
    {
      "cell_type": "code",
      "execution_count": 83,
      "metadata": {
        "id": "LYxeDWftxKD8"
      },
      "outputs": [],
      "source": [
        "class Persegi(BangunDatar):\n",
        "    def __init__(self, sisi):\n",
        "        super().__init__(\"Persegi\")\n",
        "        self.sisi = sisi\n",
        "        l = self.sisi ** 2\n",
        "        print(f\"Luas persegi adalah: {l}\")\n",
        "\n",
        "    def hitung_luas(self):\n",
        "        return self.sisi ** 2\n"
      ]
    },
    {
      "cell_type": "markdown",
      "metadata": {
        "id": "i8z3JBASyALC"
      },
      "source": [
        "Persegi Panjang"
      ]
    },
    {
      "cell_type": "code",
      "execution_count": 84,
      "metadata": {
        "id": "3FqGN85AyCRb"
      },
      "outputs": [],
      "source": [
        "class PersegiPanjang(BangunDatar):\n",
        "    def __init__(self, panjang, lebar):\n",
        "        super().__init__(\"Persegi Panjang\")\n",
        "        self.panjang = panjang\n",
        "        self.lebar = lebar\n",
        "        l = self.panjang * self.lebar\n",
        "        print(f\"Luas persegi panjang adalah: {l}\")\n",
        "\n",
        "    def hitung_luas(self):\n",
        "        return self.panjang * self.lebar"
      ]
    },
    {
      "cell_type": "markdown",
      "metadata": {
        "id": "CRgBawVxyk31"
      },
      "source": [
        "Segitiga"
      ]
    },
    {
      "cell_type": "code",
      "execution_count": 85,
      "metadata": {
        "id": "YwuIo_j1ypK8"
      },
      "outputs": [],
      "source": [
        "class Segitiga(BangunDatar):\n",
        "    def __init__(self, alas, tinggi):\n",
        "        super().__init__(\"Segitiga\")\n",
        "        self.alas = alas\n",
        "        self.tinggi = tinggi\n",
        "        l = 0.5 * self.alas * self.tinggi\n",
        "        print(f\"Luas segitiga adalah: {l}\")\n",
        "\n",
        "    def hitung_luas(self):\n",
        "        return 0.5 * self.alas * self.tinggi"
      ]
    },
    {
      "cell_type": "markdown",
      "metadata": {
        "id": "rNnR3Ot6zRBM"
      },
      "source": [
        "Lingkaran"
      ]
    },
    {
      "cell_type": "code",
      "execution_count": 86,
      "metadata": {
        "id": "jnEl9qynzSyp"
      },
      "outputs": [],
      "source": [
        "class Lingkaran(BangunDatar):\n",
        "    def __init__(self, radius):\n",
        "        super().__init__(\"Lingkaran\")\n",
        "        self.radius = radius\n",
        "        l = 3.14 * self.radius ** 2\n",
        "        print(f\"Luas lingkaran adalah: {l}\")\n",
        "\n",
        "    def hitung_luas(self):\n",
        "        return 3.14 * self.radius ** 2"
      ]
    },
    {
      "cell_type": "markdown",
      "metadata": {
        "id": "X5HDm1Aoztuv"
      },
      "source": [
        "Trapesium"
      ]
    },
    {
      "cell_type": "code",
      "execution_count": 87,
      "metadata": {
        "id": "UEBdkndRzwF9"
      },
      "outputs": [],
      "source": [
        "class Trapesium(BangunDatar):\n",
        "    def __init__(self, sisi_atas, sisi_bawah, tinggi):\n",
        "        super().__init__(\"Trapesium\")\n",
        "        self.sisi_atas = sisi_atas\n",
        "        self.sisi_bawah = sisi_bawah\n",
        "        self.tinggi = tinggi\n",
        "        l = 0.5 * (self.sisi_atas + self.sisi_bawah) * self.tinggi\n",
        "        print(f\"Luas trapesium adalah: {l}\")\n",
        "\n",
        "    def hitung_luas(self):\n",
        "        return 0.5 * (self.sisi_atas + self.sisi_bawah) * self.tinggi"
      ]
    },
    {
      "cell_type": "markdown",
      "metadata": {
        "id": "srU9IdbJ1J0d"
      },
      "source": [
        "**Menghitung total luas dan mengurutkan luas bangun datar**"
      ]
    },
    {
      "cell_type": "code",
      "source": [
        "def main():\n",
        "    print('PROGRAM MENGHITUNG LUAS BANGUN DATAR')\n",
        "    print('------------------------------------')\n",
        "\n",
        "    tot_bd = int(input(\"Masukkan total bangun datar: \"))\n",
        "    bangun_datar_list = []\n",
        "\n",
        "    for i in range(tot_bd):\n",
        "        print(f\"\\nBangun datar ke-{i+1}:\")\n",
        "        pilihan = input(\"Jenis (Persegi/Persegi Panjang/Segitiga/Lingkaran/Trapesium): \").lower()\n",
        "\n",
        "        # Fungsi main menjalankan program\n",
        "\n",
        "        if pilihan == \"persegi\":\n",
        "            sisi = float(input(\"Masukkan panjang sisi persegi: \"))\n",
        "            bangun = Persegi(sisi)\n",
        "            bangun_datar_list.append(bangun)\n",
        "        elif pilihan == \"persegi panjang\":\n",
        "            panjang = float(input(\"Masukkan panjang persegi panjang: \"))\n",
        "            lebar = float(input(\"Masukkan lebar persegi panjang: \"))\n",
        "            bangun = PersegiPanjang(panjang, lebar)\n",
        "            bangun_datar_list.append(bangun)\n",
        "        elif pilihan == \"segitiga\":\n",
        "            alas = float(input(\"Masukkan alas segitiga: \"))\n",
        "            tinggi = float(input(\"Masukkan tinggi segitiga: \"))\n",
        "            bangun = Segitiga(alas, tinggi)\n",
        "            bangun_datar_list.append(bangun)\n",
        "        elif pilihan == \"lingkaran\":\n",
        "            radius = float(input(\"Masukkan panjang radius lingkaran: \"))\n",
        "            bangun = Lingkaran(radius)\n",
        "            bangun_datar_list.append(bangun)\n",
        "        elif pilihan == \"trapesium\":\n",
        "            sisi_atas = float(input(\"Masukkan panjang sisi atas trapesium: \"))\n",
        "            sisi_bawah = float(input(\"Masukkan panjang sisi bawah trapesium: \"))\n",
        "            tinggi = float(input(\"Masukkan tinggi trapesium: \"))\n",
        "            bangun = Trapesium(sisi_atas, sisi_bawah, tinggi)\n",
        "            bangun_datar_list.append(bangun)\n",
        "        elif pilihan == \"selesai\":\n",
        "          \"break\"\n",
        "        else:\n",
        "            print(\"Pilihan tidak valid. Silakan pilih jenis bangun datar yang sesuai.\")\n",
        "        luas_list, total_luas = hitung_total_urutkan_luas(bangun_datar_list)\n",
        "\n",
        "    # Menghitung luas, mengurutkan, dan menghitung total luas\n",
        "    luas_list = [bangun.hitung_luas() for bangun in bangun_datar_list]\n",
        "    luas_list.sort()\n",
        "\n",
        "    print(\"\\nLuas bangun datar yang dihitung (terurut dari terkecil ke terbesar):\")\n",
        "    for i, luas in enumerate(luas_list):\n",
        "        print(f\"{i + 1}. {luas:.2f}\")\n",
        "\n",
        "    total_luas = sum(luas_list)\n",
        "    print(f\"Total luas bangun datar: {total_luas:.2f}\")\n",
        "\n",
        "\n",
        "if __name__ == \"__main__\":\n",
        "    main()"
      ],
      "metadata": {
        "colab": {
          "base_uri": "https://localhost:8080/"
        },
        "id": "fgTAL2mpg-wo",
        "outputId": "3eb3a8c7-c442-41f6-e4e4-7fa65869e70c"
      },
      "execution_count": 88,
      "outputs": [
        {
          "output_type": "stream",
          "name": "stdout",
          "text": [
            "PROGRAM MENGHITUNG LUAS BANGUN DATAR\n",
            "------------------------------------\n",
            "Masukkan total bangun datar: 5\n",
            "\n",
            "Bangun datar ke-1:\n",
            "Jenis (Persegi/Persegi Panjang/Segitiga/Lingkaran/Trapesium): persegi\n",
            "Masukkan panjang sisi persegi: 2\n",
            "Luas persegi adalah: 4.0\n",
            "\n",
            "Bangun datar ke-2:\n",
            "Jenis (Persegi/Persegi Panjang/Segitiga/Lingkaran/Trapesium): persegi panjang\n",
            "Masukkan panjang persegi panjang: 2\n",
            "Masukkan lebar persegi panjang: 2\n",
            "Luas persegi panjang adalah: 4.0\n",
            "\n",
            "Bangun datar ke-3:\n",
            "Jenis (Persegi/Persegi Panjang/Segitiga/Lingkaran/Trapesium): segitiga\n",
            "Masukkan alas segitiga: 2\n",
            "Masukkan tinggi segitiga: 2\n",
            "Luas segitiga adalah: 2.0\n",
            "\n",
            "Bangun datar ke-4:\n",
            "Jenis (Persegi/Persegi Panjang/Segitiga/Lingkaran/Trapesium): lingkaran\n",
            "Masukkan panjang radius lingkaran: 2\n",
            "Luas lingkaran adalah: 12.56\n",
            "\n",
            "Bangun datar ke-5:\n",
            "Jenis (Persegi/Persegi Panjang/Segitiga/Lingkaran/Trapesium): trapesium\n",
            "Masukkan panjang sisi atas trapesium: 2\n",
            "Masukkan panjang sisi bawah trapesium: 2\n",
            "Masukkan tinggi trapesium: 2\n",
            "Luas trapesium adalah: 4.0\n",
            "\n",
            "Luas bangun datar yang dihitung (terurut dari terkecil ke terbesar):\n",
            "1. 2.00\n",
            "2. 4.00\n",
            "3. 4.00\n",
            "4. 4.00\n",
            "5. 12.56\n",
            "Total luas bangun datar: 26.56\n"
          ]
        }
      ]
    }
  ],
  "metadata": {
    "colab": {
      "provenance": []
    },
    "kernelspec": {
      "display_name": "Python 3",
      "name": "python3"
    },
    "language_info": {
      "name": "python"
    }
  },
  "nbformat": 4,
  "nbformat_minor": 0
}